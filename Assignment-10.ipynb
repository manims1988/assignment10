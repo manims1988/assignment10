{
 "cells": [
  {
   "cell_type": "markdown",
   "id": "6b09c3bb-49d8-42fb-8590-f5b34eedb68c",
   "metadata": {},
   "source": [
    "1. What is the role of try and exception block?"
   ]
  },
  {
   "cell_type": "code",
   "execution_count": 2,
   "id": "058dea6c-50cc-492d-91c9-fe7392d31840",
   "metadata": {},
   "outputs": [
    {
     "name": "stdout",
     "output_type": "stream",
     "text": [
      "The \"try\" and \"except\" block is used for exception handling means it will handle the error and exceptional cases situation during the program execution\n"
     ]
    }
   ],
   "source": [
    "# Answer\n",
    "\n",
    "print('The \"try\" and \"except\" block is used for exception handling means it will handle the error and exceptional cases situation during the program execution')"
   ]
  },
  {
   "cell_type": "markdown",
   "id": "83cf2ae9-0526-45b1-8cf0-56976773340c",
   "metadata": {},
   "source": [
    "2. What is the syntax for a basic try-except block?"
   ]
  },
  {
   "cell_type": "code",
   "execution_count": 3,
   "id": "f26b3be5-9e56-4af2-9bfe-4229cdcc02e4",
   "metadata": {},
   "outputs": [
    {
     "name": "stdout",
     "output_type": "stream",
     "text": [
      "kindly find the below try-except syntax\n",
      "SYNTAX-1\n",
      "try:\n",
      "   <code>\n",
      "except:\n",
      "   <code>\n",
      "\n",
      "SYNTAX-2\n",
      "try:\n",
      "   <code>\n",
      "except:\n",
      "   <code>\n",
      "else:\n",
      "   <code>\n",
      "\n",
      "SYNTAX-3\n",
      "try:\n",
      "   <code>\n",
      "except:\n",
      "   <code>\n",
      "else:\n",
      "   <code>\n",
      "finally:\n",
      "   <code>\n"
     ]
    }
   ],
   "source": [
    "# Answer\n",
    "\n",
    "print('kindly find the below try-except syntax')\n",
    "print('SYNTAX-1',end='')\n",
    "print('''\n",
    "try:\n",
    "   <code>\n",
    "except:\n",
    "   <code>''')\n",
    "print()\n",
    "print('SYNTAX-2',end='')\n",
    "print('''\n",
    "try:\n",
    "   <code>\n",
    "except:\n",
    "   <code>\n",
    "else:\n",
    "   <code>''')\n",
    "print()\n",
    "print('SYNTAX-3',end='')\n",
    "print('''\n",
    "try:\n",
    "   <code>\n",
    "except:\n",
    "   <code>\n",
    "else:\n",
    "   <code>\n",
    "finally:\n",
    "   <code>''')"
   ]
  },
  {
   "cell_type": "markdown",
   "id": "a4dae3ab-945b-4dfb-84bf-0803031dfe41",
   "metadata": {},
   "source": [
    "3. What happens if an exception occurs inside a try block and there is no matching except block?"
   ]
  },
  {
   "cell_type": "code",
   "execution_count": 4,
   "id": "9fad0d52-cc8e-4613-837d-199eb2cf0f78",
   "metadata": {},
   "outputs": [
    {
     "name": "stdout",
     "output_type": "stream",
     "text": [
      "if there is no matching exception block then the error will occurs.\n",
      "\n",
      "it doesn't works at all\n"
     ]
    },
    {
     "ename": "ZeroDivisionError",
     "evalue": "division by zero",
     "output_type": "error",
     "traceback": [
      "\u001b[0;31m---------------------------------------------------------------------------\u001b[0m",
      "\u001b[0;31mZeroDivisionError\u001b[0m                         Traceback (most recent call last)",
      "Cell \u001b[0;32mIn [4], line 6\u001b[0m\n\u001b[1;32m      4\u001b[0m \u001b[38;5;28mprint\u001b[39m()\n\u001b[1;32m      5\u001b[0m \u001b[38;5;28;01mtry\u001b[39;00m:\n\u001b[0;32m----> 6\u001b[0m     \u001b[38;5;28mprint\u001b[39m(\u001b[38;5;241;43m4\u001b[39;49m\u001b[38;5;241;43m/\u001b[39;49m\u001b[38;5;241;43m0\u001b[39;49m)\n\u001b[1;32m      7\u001b[0m \u001b[38;5;28;01mexcept\u001b[39;00m \u001b[38;5;167;01mTypeError\u001b[39;00m:\n\u001b[1;32m      8\u001b[0m     \u001b[38;5;28mprint\u001b[39m(\u001b[38;5;124m'\u001b[39m\u001b[38;5;124mError from EXCEPT block\u001b[39m\u001b[38;5;124m'\u001b[39m)\n",
      "\u001b[0;31mZeroDivisionError\u001b[0m: division by zero"
     ]
    }
   ],
   "source": [
    "# Answer\n",
    "\n",
    "print('if there is no matching exception block then the error will occurs.')\n",
    "print()\n",
    "try:\n",
    "    print(4/0)\n",
    "except TypeError:\n",
    "    print('Error from EXCEPT block')\n",
    "else:\n",
    "    print('Error from ELSE block')\n",
    "finally:\n",
    "    print(\"it doesn't works at all\")"
   ]
  },
  {
   "cell_type": "markdown",
   "id": "ee83a153-5d01-47ae-837e-45c888b93d0c",
   "metadata": {},
   "source": [
    "4. What is the difference between using a bare except block and specifying a specific exception type?"
   ]
  },
  {
   "cell_type": "code",
   "execution_count": 5,
   "id": "2dc6596c-1d91-4c64-bf6b-3e96982caa34",
   "metadata": {},
   "outputs": [
    {
     "name": "stdout",
     "output_type": "stream",
     "text": [
      "Bare Except Block\n",
      "#################\n",
      "For different error we can print same error message\n",
      "Example 1 for zero division error\n",
      "Same Error\n",
      "\n",
      "Example 2 for type error\n",
      "Same Error\n",
      "\n",
      "Specific Except Block\n",
      "#####################\n",
      "For specific error we can print the type of the error message\n",
      "Matching error ---> Zero Divison Error\n",
      "\n",
      "Matching error ---> Type Error\n"
     ]
    }
   ],
   "source": [
    "# Answer\n",
    "\n",
    "print('Bare Except Block')\n",
    "print('#' * 17)\n",
    "print('For different error we can print same error message')  \n",
    "print('Example 1 for zero division error')\n",
    "try:\n",
    "    print(4/0)\n",
    "except:\n",
    "    print('Same Error')\n",
    "print()\n",
    "print('Example 2 for type error')\n",
    "try:\n",
    "    print(4/'0')\n",
    "except:\n",
    "    print('Same Error')\n",
    "print()\n",
    "print('Specific Except Block')\n",
    "print('#' * 21)\n",
    "print('For specific error we can print the type of the error message')  \n",
    "try:\n",
    "    print(4/0)\n",
    "except ZeroDivisionError:\n",
    "    print('Matching error ---> Zero Divison Error')\n",
    "print()\n",
    "try:\n",
    "    print(4/'0')\n",
    "except TypeError:\n",
    "    print('Matching error ---> Type Error')"
   ]
  },
  {
   "cell_type": "markdown",
   "id": "96ed8ce0-f5cd-4bb9-b56c-e0b81605cadc",
   "metadata": {},
   "source": [
    "5. Can you have nested try-except blocks in Python? If yes, then give an example."
   ]
  },
  {
   "cell_type": "code",
   "execution_count": 6,
   "id": "148fd876-38f4-4cda-a22a-450d896d2ef8",
   "metadata": {},
   "outputs": [
    {
     "name": "stdout",
     "output_type": "stream",
     "text": [
      "Nested try-except block\n",
      "Method-1\n",
      "########\n",
      "outer try block 5.0\n",
      "inner exception error\n",
      "inner final message\n",
      "outer else block\n",
      "outer final message\n",
      "Method-2\n",
      "########\n",
      "outer exception error\n",
      "outer final message\n",
      "Method-3\n",
      "########\n",
      "outer try block 5.0\n",
      "inner try block 2.0\n",
      "inner else error\n",
      "inner final message\n",
      "outer else error\n",
      "outer final message\n"
     ]
    }
   ],
   "source": [
    "# Answer\n",
    "\n",
    "print('Nested try-except block')\n",
    "print('Method-1')\n",
    "print('#' * 8)\n",
    "try:\n",
    "    print('outer try block',10/2)\n",
    "    try:\n",
    "        print('inner try block',4/0)\n",
    "    except:\n",
    "        print('inner exception error')\n",
    "    else:\n",
    "        print('inner else error')\n",
    "    finally:\n",
    "        print('inner final message')\n",
    "except:\n",
    "    print('outer exception error')\n",
    "else:\n",
    "    print('outer else block')\n",
    "finally:\n",
    "    print('outer final message')\n",
    "\n",
    "print('Method-2')\n",
    "print('#' * 8)\n",
    "try:\n",
    "    print('outer try block',10/0)\n",
    "    try:\n",
    "        print('inner try block',4/2)\n",
    "    except:\n",
    "        print('inner exception error')\n",
    "    else:\n",
    "        print('inner else error')\n",
    "    finally:\n",
    "        print('inner final message')\n",
    "except:\n",
    "    print('outer exception error')\n",
    "else:\n",
    "    print('outer else error')\n",
    "finally:\n",
    "    print('outer final message')\n",
    "    \n",
    "print('Method-3')\n",
    "print('#' * 8)\n",
    "try:\n",
    "    print('outer try block',10/2)\n",
    "    try:\n",
    "        print('inner try block',4/2)\n",
    "    except:\n",
    "        print('inner exception error')\n",
    "    else:\n",
    "        print('inner else error')\n",
    "    finally:\n",
    "        print('inner final message')\n",
    "except:\n",
    "    print('outer exception error')\n",
    "else:\n",
    "    print('outer else error')\n",
    "finally:\n",
    "    print('outer final message')"
   ]
  },
  {
   "cell_type": "markdown",
   "id": "3e1776d3-15d6-40c9-a243-fd183d2625ae",
   "metadata": {},
   "source": [
    "6. Can we use multiple exception blocks, if yes then give an example."
   ]
  },
  {
   "cell_type": "code",
   "execution_count": 7,
   "id": "0f72987d-d053-42f4-9272-88d643ea6165",
   "metadata": {},
   "outputs": [
    {
     "name": "stdout",
     "output_type": "stream",
     "text": [
      "Demonstration on Multiple Exception Blocks\n",
      "Note: comment either a or b to get desired output\n",
      "Error: it's a overflow error!\n"
     ]
    }
   ],
   "source": [
    "# Answer\n",
    "\n",
    "print('Demonstration on Multiple Exception Blocks')\n",
    "try:\n",
    "    print('Note: comment either a or b to get desired output')\n",
    "    #print(10/0)\n",
    "    #print(int(\"abc\"))\n",
    "    print([1,2] * (1000 ** 10))\n",
    "except ZeroDivisionError:\n",
    "    print(\"Error: Division by zero!\")\n",
    "except ValueError:\n",
    "    print(\"Error: Invalid conversion to integer!\")\n",
    "except OverflowError:\n",
    "    print(\"Error: it's a overflow error!\")\n",
    "else:\n",
    "    print('Error from above code')"
   ]
  },
  {
   "cell_type": "markdown",
   "id": "5adae5af-040b-4b52-9d40-f9ea50f4955b",
   "metadata": {},
   "source": [
    "7. Write the reason due to which following errors are raised:\n",
    "a. EOFError\n",
    "b. FloatingPointError\n",
    "c. IndexError\n",
    "d. MemoryError\n",
    "e. OverflowError\n",
    "f. TabError\n",
    "g. ValueError"
   ]
  },
  {
   "cell_type": "code",
   "execution_count": 8,
   "id": "221f52fc-0424-4e4c-af10-62cc4304c0a6",
   "metadata": {},
   "outputs": [
    {
     "name": "stdout",
     "output_type": "stream",
     "text": [
      "A. EOF Error\n",
      "##############\n"
     ]
    },
    {
     "name": "stdin",
     "output_type": "stream",
     "text": [
      "enter something:  1\n"
     ]
    },
    {
     "name": "stdout",
     "output_type": "stream",
     "text": [
      "1\n",
      "In online Jupyter if i press \"ctrl + d\" its not working at all\n",
      "I tried manually in Python Idle and its working fine\n",
      "press \"ctrl + d\" in windows machine and it will raise the exception\n",
      "\n",
      "B. FloatingPoint Error\n",
      "####################\n",
      "STILL CHECKING HOW TO REPRODUCE THIS ERROR\n",
      "\n",
      "C. Index Error\n",
      "##############\n",
      "Index Error enter correct value\n",
      "\n",
      "7.0289\n",
      "\n",
      "D. Memory Error\n",
      "####################\n",
      "Memory Error enter correct value\n",
      "\n",
      "E. OverFlow Error\n",
      "##################\n",
      "Over Flow Error\n",
      "\n",
      "F. TabError or IndentationError\n",
      "##############################\n",
      "THIS ERROR UNABLE TO REPRODUCE\n",
      "G. Value Error\n",
      "##############\n"
     ]
    },
    {
     "name": "stdin",
     "output_type": "stream",
     "text": [
      "enter a value: 1\n",
      "enter b value: 1.1\n"
     ]
    },
    {
     "name": "stdout",
     "output_type": "stream",
     "text": [
      "Value Error enter correct value\n"
     ]
    }
   ],
   "source": [
    "# Answer\n",
    "\n",
    "print('A. EOF Error')\n",
    "print('#' * 14)\n",
    "try:\n",
    "    string = input('enter something: ')\n",
    "    print(string)\n",
    "    print('In online Jupyter if i press \"ctrl + d\" its not working at all')\n",
    "    print('I tried manually in Python Idle and its working fine')\n",
    "    print('press \"ctrl + d\" in windows machine and it will raise the exception')\n",
    "except EOFError:\n",
    "     print(\"no data provided to input function\")\n",
    "print()\n",
    "print('B. FloatingPoint Error')\n",
    "print('#' * 20)\n",
    "print('STILL CHECKING HOW TO REPRODUCE THIS ERROR')\n",
    "print('RAISED WHEN FLOATING POINT OPERATIONS FAILED')\n",
    "print()\n",
    "print('C. Index Error')\n",
    "print('#' * 14)\n",
    "try:\n",
    "    list1=[1,2,3,4,5]\n",
    "    print(list1[10])\n",
    "except IndexError:\n",
    "    print('Index Error raised when we access index value which is beyond the value')\n",
    "print()\n",
    "try:\n",
    "    print(round(24.601 / 3.5, 4))\n",
    "except FloatingPointError:\n",
    "    print('Error in FPE')\n",
    "print()\n",
    "print('D. Memory Error')\n",
    "print('#' * 20)\n",
    "try:\n",
    "    print([1] * (10 ** 12))\n",
    "except MemoryError:\n",
    "    print('Memory Error raised due to values requests more memory location to save the value')\n",
    "print()\n",
    "print('E. OverFlow Error')\n",
    "print('#' * 18)\n",
    "try:\n",
    "    bg_lt=[1] * (10000 ** 12345)\n",
    "except OverflowError:\n",
    "    print('Over Flow Error raised due ')\n",
    "print()\n",
    "print('F. TabError or IndentationError')\n",
    "print('#' * 30)\n",
    "try:\n",
    "    x = 5\n",
    "    y = 10\n",
    "    print('THIS ERROR UNABLE TO REPRODUCE')\n",
    "except IndentationError:\n",
    "    print(\"Indentation Error enter correct value\")\n",
    "print('G. Value Error')\n",
    "print('#' * 14)\n",
    "try:\n",
    "    a = int(input('enter a value:'))\n",
    "    b = int(input('enter b value:'))\n",
    "    c = a / b\n",
    "    print(c)\n",
    "except ValueError:\n",
    "    print('Value Error enter correct value')"
   ]
  },
  {
   "cell_type": "markdown",
   "id": "b8e9b3b5-d6bc-449a-a875-61373c3a6772",
   "metadata": {},
   "source": [
    "8. Write code for the following given scenario and add try-exception block to it.\n",
    "a. Program to divide two numbers\n",
    "b. Program to convert a string to an integer\n",
    "c. Program to access an element in a list\n",
    "d. Program to handle a specific exception\n",
    "e. Program to handle any exception"
   ]
  },
  {
   "cell_type": "code",
   "execution_count": 9,
   "id": "924e93a0-e5b5-453d-a8f6-e284949824c0",
   "metadata": {},
   "outputs": [
    {
     "name": "stdout",
     "output_type": "stream",
     "text": [
      "Program to divide two numbers\n",
      "2.0\n",
      "\n",
      "Program to convert a string to an integer\n",
      "integer is 123\n",
      "\n",
      "Program to access an element in a list\n",
      "accessing element from the list is 3\n",
      "\n",
      "Program to handle a specific exception\n",
      "Hanle only type error\n",
      "\n",
      "Program to handle any exception\n",
      "It can handle any exceptional error\n"
     ]
    }
   ],
   "source": [
    "# Answer\n",
    "\n",
    "print('Program to divide two numbers')\n",
    "try:\n",
    "    print(4 / 2)\n",
    "except:\n",
    "    print('No error')\n",
    "print('')    \n",
    "print('Program to convert a string to an integer')\n",
    "try:\n",
    "    st = '123'\n",
    "    print(f'integer is {int(st)}')\n",
    "except:\n",
    "    print('No error')\n",
    "print('')\n",
    "print('Program to access an element in a list')\n",
    "try:\n",
    "    lst = [1,2,3,4,5]\n",
    "    print(f'accessing element from the list is {lst[2]}')\n",
    "except:\n",
    "    print('No error in this code')\n",
    "print('')\n",
    "print('Program to handle a specific exception')\n",
    "try:\n",
    "    tup = (1,2,3,4)\n",
    "    tup[0] = 10\n",
    "except TypeError:\n",
    "    print('Hanle only type error')\n",
    "print('')\n",
    "print('Program to handle any exception')\n",
    "try:\n",
    "    print(4/0)\n",
    "except:\n",
    "    print('It can handle any exceptional error')"
   ]
  }
 ],
 "metadata": {
  "kernelspec": {
   "display_name": "Python 3 (ipykernel)",
   "language": "python",
   "name": "python3"
  },
  "language_info": {
   "codemirror_mode": {
    "name": "ipython",
    "version": 3
   },
   "file_extension": ".py",
   "mimetype": "text/x-python",
   "name": "python",
   "nbconvert_exporter": "python",
   "pygments_lexer": "ipython3",
   "version": "3.10.6"
  }
 },
 "nbformat": 4,
 "nbformat_minor": 5
}
